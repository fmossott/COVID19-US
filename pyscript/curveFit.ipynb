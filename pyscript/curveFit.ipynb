{
 "nbformat": 4,
 "nbformat_minor": 2,
 "metadata": {
  "language_info": {
   "name": "python",
   "codemirror_mode": {
    "name": "ipython",
    "version": 3
   },
   "version": "3.7.6-final"
  },
  "orig_nbformat": 2,
  "file_extension": ".py",
  "mimetype": "text/x-python",
  "name": "python",
  "npconvert_exporter": "python",
  "pygments_lexer": "ipython3",
  "version": 3,
  "kernelspec": {
   "name": "python37664bit40ccb972f06c4506ace5644e4690cca6",
   "display_name": "Python 3.7.6 64-bit"
  }
 },
 "cells": [
  {
   "cell_type": "code",
   "execution_count": null,
   "metadata": {},
   "outputs": [],
   "source": [
    "import pandas as pd\n",
    "import numpy as np\n",
    "import matplotlib.pyplot as plt \n",
    "from sklearn.linear_model import LinearRegression\n",
    "from scipy.special import expit\n",
    "from scipy.special import logit\n",
    "from scipy.special import erf\n",
    "from scipy.optimize import curve_fit\n",
    "import datetime"
   ]
  },
  {
   "cell_type": "code",
   "execution_count": null,
   "metadata": {},
   "outputs": [],
   "source": [
    "ts = pd.read_csv(\"../data/ts_raw.csv\")"
   ]
  },
  {
   "cell_type": "code",
   "execution_count": null,
   "metadata": {},
   "outputs": [],
   "source": [
    "base=np.datetime64('2019-12-31')\n",
    "\n",
    "ts['Date'] = pd.to_datetime(ts['Date'])\n",
    "\n",
    "ts['diff']= ts['Date']-base\n",
    "ts['day'] = ts['diff']/np.timedelta64(1,'D')\n",
    "ts['day'] = ts['day'].astype(int)\n",
    ""
   ]
  },
  {
   "cell_type": "code",
   "execution_count": null,
   "metadata": {},
   "outputs": [],
   "source": [
    "print('max day = %d, max date = %s' % (ts.day.max(), ts.Date.max()))"
   ]
  },
  {
   "cell_type": "code",
   "execution_count": null,
   "metadata": {},
   "outputs": [],
   "source": [
    "# aggregate by date\n",
    "ts = ts.groupby(['Date', 'day', 'Country/Region']).agg({'Confirmed': np.sum, 'Deaths': np.sum, 'Recovered': np.sum}).reset_index().sort_values(by=['day'])\n",
    "tsAll = ts.groupby(['Date', 'day']).agg({'Confirmed': np.sum, 'Deaths': np.sum, 'Recovered': np.sum}).reset_index().sort_values(by=['day'])\n",
    ""
   ]
  },
  {
   "cell_type": "code",
   "execution_count": null,
   "metadata": {},
   "outputs": [],
   "source": [
    "def sigmoid(x, x0, yM, xf):\n",
    "    y = expit((x-x0)*xf)*yM   # logistic\n",
    "    #y1 = np.arctan((x-x0)*xf)/np.pi*yM + yM/2 # arctan\n",
    "    #y2 = np.tanh((x-x0)*xf2)*yM/2 + yM/2 # tanh\n",
    "    #y3 = erf((x-x0)*xf3)*yM/2 + yM/2 # erf\n",
    "    return y\n",
    "\n",
    "def startP0(x,y):\n",
    "    return [(x.max()+x.min())/2, y.max(), 1]\n",
    ""
   ]
  },
  {
   "cell_type": "code",
   "execution_count": null,
   "metadata": {},
   "outputs": [],
   "source": [
    "def regionData(region, metric='Confirmed'):\n",
    "    if region!=None:\n",
    "        cdata = ts[(ts['Country/Region']==region)]\n",
    "    else:\n",
    "        cdata = tsAll\n",
    "    x = cdata.day.values\n",
    "    y = cdata[metric].values\n",
    "    return x,y"
   ]
  },
  {
   "cell_type": "code",
   "execution_count": null,
   "metadata": {},
   "outputs": [],
   "source": [
    "def estimate(region, metric='Confirmed'):\n",
    "    x,y=regionData(region, metric)\n",
    "\n",
    "    try:\n",
    "        p0 = startP0(x,y)\n",
    "        popt, pcov = curve_fit(sigmoid, x, y, p0=p0)\n",
    "        perr = np.sqrt(np.diag(pcov))\n",
    "    except:\n",
    "        popt = np.array([np.nan,np.nan,np.nan])\n",
    "        perr = popt\n",
    "\n",
    "    return popt, perr\n",
    ""
   ]
  },
  {
   "cell_type": "code",
   "execution_count": null,
   "metadata": {},
   "outputs": [],
   "source": [
    "estimate('Italy')"
   ]
  },
  {
   "cell_type": "code",
   "execution_count": null,
   "metadata": {},
   "outputs": [],
   "source": [
    "def fitPlot(region, name=None, metric='Confirmed'):\n",
    "    x,y=regionData(region, metric)\n",
    "\n",
    "    if name==None:\n",
    "        name=str(region)\n",
    "\n",
    "    plt.figure(1, figsize=(8, 6))\n",
    "    plt.clf()\n",
    "    plt.title('Sigmoid fit for '+metric+' in '+name)\n",
    "\n",
    "    ymax=max(y)\n",
    "\n",
    "    try:\n",
    "        p0 = startP0(x,y)\n",
    "        popt, pcov = curve_fit(sigmoid, x, y, p0=p0)\n",
    "        perr = np.sqrt(np.diag(pcov))\n",
    "\n",
    "        x_reg = np.linspace(min(x), 2 * max(x) - min(x), 100)\n",
    "        y_reg = sigmoid(x_reg, *popt)\n",
    "        y_low = sigmoid(x_reg, popt[0]+perr[0], popt[1]-perr[1]*2, *(popt[2:]+perr[2:]))\n",
    "        y_high= sigmoid(x_reg, popt[0]-perr[0], popt[1]+perr[1]*2, *(popt[2:]-perr[2:]))\n",
    "\n",
    "        plt.plot(x_reg, y_reg, linewidth=3.0, label='fit (%.1fk)'%(popt[1]/1000))\n",
    "        plt.fill_between(x_reg, y_low, y_high, alpha=0.5, label='95% conf')\n",
    "        ymax = max(ymax, max(y_reg), min(max(y_high), max(y_reg)*2))\n",
    "    except Exception as e:\n",
    "        print('Error during fit for %s: %s' % (name, str(e)))\n",
    "        \n",
    "    plt.plot(x, y, 'o', label='data')\n",
    "\n",
    "    plt.ylim(-10, ymax*1.1)\n",
    "    plt.legend(loc='upper left')\n",
    "    plt.show()\n",
    ""
   ]
  },
  {
   "cell_type": "code",
   "execution_count": null,
   "metadata": {
    "tags": [
     "outputPrepend",
     "outputPrepend"
    ]
   },
   "outputs": [],
   "source": [
    "def estPlot(region, name=None, metric='Confirmed'):\n",
    "    if name==None:\n",
    "        name=str(region)\n",
    "\n",
    "    yMFit = pd.DataFrame()\n",
    "\n",
    "    x,y=regionData(region, metric)\n",
    "\n",
    "    for n in range(1,len(x)):\n",
    "        try:\n",
    "            sx = x[:n]\n",
    "            sy = y[:n]\n",
    "            p0 = startP0(sx,sy)\n",
    "            popt, pcov = curve_fit(sigmoid, sx, sy, p0=p0)\n",
    "            perr = np.sqrt(np.diag(pcov))\n",
    "            err = perr[1]\n",
    "            yM = popt[1]\n",
    "        except:\n",
    "            #print('No fit for day ',n)\n",
    "            yM = np.nan\n",
    "            err = np.nan\n",
    "        yMFit = yMFit.append({'d':x[n], 'est':yM, 'error': err, 'cases': y[n]}, ignore_index=True)\n",
    "\n",
    "    plt.figure(1, figsize=(8, 6))\n",
    "    plt.clf()\n",
    "    plt.title('Estimation over time for '+metric+' in '+name)\n",
    "\n",
    "    plt.plot(yMFit.d, yMFit.est, linewidth=2.0, label='est')\n",
    "    yLow=yMFit.est-yMFit.error*2\n",
    "    yHigh=yMFit.est+yMFit.error*2\n",
    "    plt.fill_between(yMFit.d, yLow, yHigh, alpha=0.5, label='95% conf')\n",
    "    plt.plot(x, y, 'o', label='cases')\n",
    "\n",
    "    plt.ylim(-10, min(yMFit.cases.max()*3, max(yMFit.cases.max(),yMFit.est.max()*1.4)))\n",
    "    plt.xlim(yMFit.d.min()-2, yMFit.d.max()+2)\n",
    "    plt.legend(loc='upper left')\n",
    "    \n",
    "    plt.show()\n",
    ""
   ]
  },
  {
   "cell_type": "code",
   "execution_count": null,
   "metadata": {},
   "outputs": [],
   "source": [
    "def allPlots(region, name=None):\n",
    "    fitPlot(region,name)\n",
    "    fitPlot(region,name,'Deaths')\n",
    "    estPlot(region,name)\n",
    "    estPlot(region,name,'Deaths')\n",
    ""
   ]
  },
  {
   "cell_type": "code",
   "execution_count": null,
   "metadata": {
    "tags": [
     "outputPrepend"
    ]
   },
   "outputs": [],
   "source": [
    "cRef,cRefErr = estimate('Italy')"
   ]
  },
  {
   "cell_type": "code",
   "execution_count": null,
   "metadata": {},
   "outputs": [],
   "source": [
    "def plotRegions(regions, metric='Confirmed'):\n",
    "    try:\n",
    "        plt.figure(1, figsize=(8, 6))\n",
    "        plt.clf()\n",
    "        plt.title('Compare countries with offset')\n",
    "\n",
    "        for c in regions:\n",
    "            try:\n",
    "                pcov, perr = estimate(c)\n",
    "                delay=int(pcov[0]-cRef[0])\n",
    "                yM=pcov[1]\n",
    "                x,y=regionData(c, metric)\n",
    "                plt.plot(x-int(pcov[0]), y/yM, linewidth=2.0, label= \"%s (%d days, max %.1fk)\" % (c, delay, yM/1000)) \n",
    "            except:\n",
    "                print('No fit for '+metric+' in '+c)\n",
    "\n",
    "        plt.ylim(-0.1, 1.1)\n",
    "        plt.legend(loc='upper left')\n",
    "        plt.show()\n",
    "    except:\n",
    "        print('No fit for '+metric+' in '+c)"
   ]
  },
  {
   "cell_type": "code",
   "execution_count": null,
   "metadata": {},
   "outputs": [],
   "source": [
    "allPlots('Italy')"
   ]
  },
  {
   "cell_type": "code",
   "execution_count": null,
   "metadata": {},
   "outputs": [],
   "source": [
    "allPlots('China')"
   ]
  },
  {
   "cell_type": "code",
   "execution_count": null,
   "metadata": {},
   "outputs": [],
   "source": [
    "allPlots('Germany')"
   ]
  },
  {
   "cell_type": "code",
   "execution_count": null,
   "metadata": {},
   "outputs": [],
   "source": [
    "allPlots('Spain')"
   ]
  },
  {
   "cell_type": "code",
   "execution_count": null,
   "metadata": {},
   "outputs": [],
   "source": [
    "allPlots('US')"
   ]
  },
  {
   "cell_type": "code",
   "execution_count": null,
   "metadata": {},
   "outputs": [],
   "source": [
    "allPlots('Japan')"
   ]
  },
  {
   "cell_type": "code",
   "execution_count": null,
   "metadata": {},
   "outputs": [],
   "source": [
    "regions = ts['Country/Region'].unique()\n",
    "regions"
   ]
  },
  {
   "cell_type": "code",
   "execution_count": null,
   "metadata": {},
   "outputs": [],
   "source": [
    "plotRegions(['Italy','China','US','France','United Kingdom','Germany','Spain'])"
   ]
  },
  {
   "cell_type": "code",
   "execution_count": null,
   "metadata": {},
   "outputs": [],
   "source": [
    "allPlots(None,'World')"
   ]
  },
  {
   "cell_type": "code",
   "execution_count": null,
   "metadata": {},
   "outputs": [],
   "source": [
    "allPlots('Switzerland')"
   ]
  },
  {
   "cell_type": "code",
   "execution_count": null,
   "metadata": {},
   "outputs": [],
   "source": [
    "def x2date(x):\n",
    "    try:\n",
    "        res = base+np.timedelta64(int(x),'D')\n",
    "    except:\n",
    "        res = np.NaN\n",
    "    return res\n",
    "\n",
    "def forecastTol(region, tolerance=0.99, metric='Confirmed'):\n",
    "    pcov, perr = estimate(region, metric)\n",
    "\n",
    "    x0, L, k = pcov\n",
    "    x0m, Lm, km = (pcov-perr*2)\n",
    "    x0M, LM, kM = (pcov+perr*2)\n",
    "\n",
    "    x =  logit(tolerance) / k + x0\n",
    "    xm = logit(tolerance) / kM + x0m\n",
    "    xM = logit(tolerance) / km + x0M\n",
    "\n",
    "    #print (xm, xM)\n",
    "    #print(\"%.1f%% of %-9s in %-22s: \" % (tolerance*100, metric, region), base+np.timedelta64(int(xm),'D'), base+np.timedelta64(int(xM),'D'))\n",
    "    return {'Region': region,\\\n",
    "            'Metric':  \"%.1f%% of %-9s\" % (tolerance*100, metric),\\\n",
    "            'From': x2date(xm),\\\n",
    "            'Est': x2date(x),\\\n",
    "            'To': x2date(xM)}\n",
    "    \n",
    "def forecastCases(region, leftcases=1, metric='Confirmed'):\n",
    "    pcov, perr = estimate(region, metric)\n",
    "\n",
    "    x0, L, k = pcov\n",
    "    x0m, Lm, km = (pcov-perr*2)\n",
    "    x0M, LM, kM = (pcov+perr*2)\n",
    "\n",
    "    x = logit((L-leftcases)/L) / k + x0\n",
    "    xm = logit((Lm-leftcases)/Lm) / kM + x0m\n",
    "    xM = logit((LM-leftcases)/LM) / km + x0M\n",
    "\n",
    "    #print (xm, xM)\n",
    "    #print(\"%3d %-9s left in %-22s: \" % (leftcases, metric, region), base+np.timedelta64(int(xm),'D'), base+np.timedelta64(int(xM),'D'))\n",
    "    return {'Region': region,\\\n",
    "            'Metric':  \"%d %-9s left\" % (leftcases, metric),\\\n",
    "            'From': x2date(xm),\\\n",
    "            'Est': x2date(x),\\\n",
    "            'To': x2date(xM)}\n",
    ""
   ]
  },
  {
   "cell_type": "code",
   "execution_count": null,
   "metadata": {},
   "outputs": [],
   "source": [
    "def allForecasts(region, tolerance=0.99, leftcases=1):\n",
    "    data = []\n",
    "    data.append(forecastTol(region, tolerance))\n",
    "    data.append(forecastTol(region, tolerance,'Deaths'))\n",
    "    data.append(forecastCases(region, leftcases))\n",
    "    data.append(forecastCases(region, leftcases,'Deaths'))\n",
    "    display(pd.DataFrame(data))"
   ]
  },
  {
   "cell_type": "code",
   "execution_count": null,
   "metadata": {},
   "outputs": [],
   "source": [
    "allForecasts('Italy')"
   ]
  },
  {
   "cell_type": "code",
   "execution_count": null,
   "metadata": {},
   "outputs": [],
   "source": [
    "allForecasts('US')"
   ]
  },
  {
   "cell_type": "code",
   "execution_count": null,
   "metadata": {},
   "outputs": [],
   "source": [
    "pd.set_option(\"display.max_rows\", None, \"display.max_columns\", None)\n",
    "\n",
    "data = [forecastTol(r, 0.99) for r in regions]\n",
    "display(pd.DataFrame(data).sort_values(by=['Est'],ascending=False))\n",
    "print()\n",
    ""
   ]
  },
  {
   "cell_type": "code",
   "execution_count": null,
   "metadata": {},
   "outputs": [],
   "source": [
    "data = [forecastCases(r, 1) for r in regions]\n",
    "display(pd.DataFrame(data).sort_values(by=['Est'],ascending=False))\n",
    "print()"
   ]
  },
  {
   "cell_type": "code",
   "execution_count": null,
   "metadata": {},
   "outputs": [],
   "source": []
  }
 ]
}