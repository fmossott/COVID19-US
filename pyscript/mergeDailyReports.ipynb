{
 "nbformat": 4,
 "nbformat_minor": 2,
 "metadata": {
  "language_info": {
   "name": "python",
   "codemirror_mode": {
    "name": "ipython",
    "version": 3
   },
   "version": "3.7.6-final"
  },
  "orig_nbformat": 2,
  "file_extension": ".py",
  "mimetype": "text/x-python",
  "name": "python",
  "npconvert_exporter": "python",
  "pygments_lexer": "ipython3",
  "version": 3,
  "kernelspec": {
   "name": "python37664bit40ccb972f06c4506ace5644e4690cca6",
   "display_name": "Python 3.7.6 64-bit"
  }
 },
 "cells": [
  {
   "cell_type": "code",
   "execution_count": 83,
   "metadata": {},
   "outputs": [],
   "source": [
    "import pandas as pd\n",
    "import glob\n",
    "import re\n",
    "import datetime"
   ]
  },
  {
   "cell_type": "code",
   "execution_count": 84,
   "metadata": {},
   "outputs": [
    {
     "output_type": "execute_result",
     "data": {
      "text/plain": "['../../COVID-19/csse_covid_19_data/csse_covid_19_daily_reports/01-22-2020.csv',\n '../../COVID-19/csse_covid_19_data/csse_covid_19_daily_reports/01-23-2020.csv',\n '../../COVID-19/csse_covid_19_data/csse_covid_19_daily_reports/01-24-2020.csv',\n '../../COVID-19/csse_covid_19_data/csse_covid_19_daily_reports/01-25-2020.csv',\n '../../COVID-19/csse_covid_19_data/csse_covid_19_daily_reports/01-26-2020.csv',\n '../../COVID-19/csse_covid_19_data/csse_covid_19_daily_reports/01-27-2020.csv',\n '../../COVID-19/csse_covid_19_data/csse_covid_19_daily_reports/01-28-2020.csv',\n '../../COVID-19/csse_covid_19_data/csse_covid_19_daily_reports/01-29-2020.csv',\n '../../COVID-19/csse_covid_19_data/csse_covid_19_daily_reports/01-30-2020.csv',\n '../../COVID-19/csse_covid_19_data/csse_covid_19_daily_reports/01-31-2020.csv',\n '../../COVID-19/csse_covid_19_data/csse_covid_19_daily_reports/02-01-2020.csv',\n '../../COVID-19/csse_covid_19_data/csse_covid_19_daily_reports/02-02-2020.csv',\n '../../COVID-19/csse_covid_19_data/csse_covid_19_daily_reports/02-03-2020.csv',\n '../../COVID-19/csse_covid_19_data/csse_covid_19_daily_reports/02-04-2020.csv',\n '../../COVID-19/csse_covid_19_data/csse_covid_19_daily_reports/02-05-2020.csv',\n '../../COVID-19/csse_covid_19_data/csse_covid_19_daily_reports/02-06-2020.csv',\n '../../COVID-19/csse_covid_19_data/csse_covid_19_daily_reports/02-07-2020.csv',\n '../../COVID-19/csse_covid_19_data/csse_covid_19_daily_reports/02-08-2020.csv',\n '../../COVID-19/csse_covid_19_data/csse_covid_19_daily_reports/02-09-2020.csv',\n '../../COVID-19/csse_covid_19_data/csse_covid_19_daily_reports/02-10-2020.csv',\n '../../COVID-19/csse_covid_19_data/csse_covid_19_daily_reports/02-11-2020.csv',\n '../../COVID-19/csse_covid_19_data/csse_covid_19_daily_reports/02-12-2020.csv',\n '../../COVID-19/csse_covid_19_data/csse_covid_19_daily_reports/02-13-2020.csv',\n '../../COVID-19/csse_covid_19_data/csse_covid_19_daily_reports/02-14-2020.csv',\n '../../COVID-19/csse_covid_19_data/csse_covid_19_daily_reports/02-15-2020.csv',\n '../../COVID-19/csse_covid_19_data/csse_covid_19_daily_reports/02-16-2020.csv',\n '../../COVID-19/csse_covid_19_data/csse_covid_19_daily_reports/02-17-2020.csv',\n '../../COVID-19/csse_covid_19_data/csse_covid_19_daily_reports/02-18-2020.csv',\n '../../COVID-19/csse_covid_19_data/csse_covid_19_daily_reports/02-19-2020.csv',\n '../../COVID-19/csse_covid_19_data/csse_covid_19_daily_reports/02-20-2020.csv',\n '../../COVID-19/csse_covid_19_data/csse_covid_19_daily_reports/02-21-2020.csv',\n '../../COVID-19/csse_covid_19_data/csse_covid_19_daily_reports/02-22-2020.csv',\n '../../COVID-19/csse_covid_19_data/csse_covid_19_daily_reports/02-23-2020.csv',\n '../../COVID-19/csse_covid_19_data/csse_covid_19_daily_reports/02-24-2020.csv',\n '../../COVID-19/csse_covid_19_data/csse_covid_19_daily_reports/02-25-2020.csv',\n '../../COVID-19/csse_covid_19_data/csse_covid_19_daily_reports/02-26-2020.csv',\n '../../COVID-19/csse_covid_19_data/csse_covid_19_daily_reports/02-27-2020.csv',\n '../../COVID-19/csse_covid_19_data/csse_covid_19_daily_reports/02-28-2020.csv',\n '../../COVID-19/csse_covid_19_data/csse_covid_19_daily_reports/02-29-2020.csv',\n '../../COVID-19/csse_covid_19_data/csse_covid_19_daily_reports/03-01-2020.csv',\n '../../COVID-19/csse_covid_19_data/csse_covid_19_daily_reports/03-02-2020.csv',\n '../../COVID-19/csse_covid_19_data/csse_covid_19_daily_reports/03-03-2020.csv',\n '../../COVID-19/csse_covid_19_data/csse_covid_19_daily_reports/03-04-2020.csv',\n '../../COVID-19/csse_covid_19_data/csse_covid_19_daily_reports/03-05-2020.csv',\n '../../COVID-19/csse_covid_19_data/csse_covid_19_daily_reports/03-06-2020.csv',\n '../../COVID-19/csse_covid_19_data/csse_covid_19_daily_reports/03-07-2020.csv',\n '../../COVID-19/csse_covid_19_data/csse_covid_19_daily_reports/03-08-2020.csv',\n '../../COVID-19/csse_covid_19_data/csse_covid_19_daily_reports/03-09-2020.csv',\n '../../COVID-19/csse_covid_19_data/csse_covid_19_daily_reports/03-10-2020.csv',\n '../../COVID-19/csse_covid_19_data/csse_covid_19_daily_reports/03-11-2020.csv',\n '../../COVID-19/csse_covid_19_data/csse_covid_19_daily_reports/03-12-2020.csv',\n '../../COVID-19/csse_covid_19_data/csse_covid_19_daily_reports/03-13-2020.csv',\n '../../COVID-19/csse_covid_19_data/csse_covid_19_daily_reports/03-14-2020.csv',\n '../../COVID-19/csse_covid_19_data/csse_covid_19_daily_reports/03-15-2020.csv',\n '../../COVID-19/csse_covid_19_data/csse_covid_19_daily_reports/03-16-2020.csv',\n '../../COVID-19/csse_covid_19_data/csse_covid_19_daily_reports/03-17-2020.csv',\n '../../COVID-19/csse_covid_19_data/csse_covid_19_daily_reports/03-18-2020.csv',\n '../../COVID-19/csse_covid_19_data/csse_covid_19_daily_reports/03-19-2020.csv',\n '../../COVID-19/csse_covid_19_data/csse_covid_19_daily_reports/03-20-2020.csv',\n '../../COVID-19/csse_covid_19_data/csse_covid_19_daily_reports/03-21-2020.csv',\n '../../COVID-19/csse_covid_19_data/csse_covid_19_daily_reports/03-22-2020.csv',\n '../../COVID-19/csse_covid_19_data/csse_covid_19_daily_reports/03-23-2020.csv']"
     },
     "metadata": {},
     "execution_count": 84
    }
   ],
   "source": [
    "files=glob.glob(\"../../COVID-19/csse_covid_19_data/csse_covid_19_daily_reports/*.csv\")\n",
    "files.sort()\n",
    "files"
   ]
  },
  {
   "cell_type": "code",
   "execution_count": 85,
   "metadata": {},
   "outputs": [
    {
     "output_type": "execute_result",
     "data": {
      "text/plain": "[datetime.datetime(2020, 1, 22, 0, 0),\n datetime.datetime(2020, 1, 23, 0, 0),\n datetime.datetime(2020, 1, 24, 0, 0),\n datetime.datetime(2020, 1, 25, 0, 0),\n datetime.datetime(2020, 1, 26, 0, 0),\n datetime.datetime(2020, 1, 27, 0, 0),\n datetime.datetime(2020, 1, 28, 0, 0),\n datetime.datetime(2020, 1, 29, 0, 0),\n datetime.datetime(2020, 1, 30, 0, 0),\n datetime.datetime(2020, 1, 31, 0, 0),\n datetime.datetime(2020, 2, 1, 0, 0),\n datetime.datetime(2020, 2, 2, 0, 0),\n datetime.datetime(2020, 2, 3, 0, 0),\n datetime.datetime(2020, 2, 4, 0, 0),\n datetime.datetime(2020, 2, 5, 0, 0),\n datetime.datetime(2020, 2, 6, 0, 0),\n datetime.datetime(2020, 2, 7, 0, 0),\n datetime.datetime(2020, 2, 8, 0, 0),\n datetime.datetime(2020, 2, 9, 0, 0),\n datetime.datetime(2020, 2, 10, 0, 0),\n datetime.datetime(2020, 2, 11, 0, 0),\n datetime.datetime(2020, 2, 12, 0, 0),\n datetime.datetime(2020, 2, 13, 0, 0),\n datetime.datetime(2020, 2, 14, 0, 0),\n datetime.datetime(2020, 2, 15, 0, 0),\n datetime.datetime(2020, 2, 16, 0, 0),\n datetime.datetime(2020, 2, 17, 0, 0),\n datetime.datetime(2020, 2, 18, 0, 0),\n datetime.datetime(2020, 2, 19, 0, 0),\n datetime.datetime(2020, 2, 20, 0, 0),\n datetime.datetime(2020, 2, 21, 0, 0),\n datetime.datetime(2020, 2, 22, 0, 0),\n datetime.datetime(2020, 2, 23, 0, 0),\n datetime.datetime(2020, 2, 24, 0, 0),\n datetime.datetime(2020, 2, 25, 0, 0),\n datetime.datetime(2020, 2, 26, 0, 0),\n datetime.datetime(2020, 2, 27, 0, 0),\n datetime.datetime(2020, 2, 28, 0, 0),\n datetime.datetime(2020, 2, 29, 0, 0),\n datetime.datetime(2020, 3, 1, 0, 0),\n datetime.datetime(2020, 3, 2, 0, 0),\n datetime.datetime(2020, 3, 3, 0, 0),\n datetime.datetime(2020, 3, 4, 0, 0),\n datetime.datetime(2020, 3, 5, 0, 0),\n datetime.datetime(2020, 3, 6, 0, 0),\n datetime.datetime(2020, 3, 7, 0, 0),\n datetime.datetime(2020, 3, 8, 0, 0),\n datetime.datetime(2020, 3, 9, 0, 0),\n datetime.datetime(2020, 3, 10, 0, 0),\n datetime.datetime(2020, 3, 11, 0, 0),\n datetime.datetime(2020, 3, 12, 0, 0),\n datetime.datetime(2020, 3, 13, 0, 0),\n datetime.datetime(2020, 3, 14, 0, 0),\n datetime.datetime(2020, 3, 15, 0, 0),\n datetime.datetime(2020, 3, 16, 0, 0),\n datetime.datetime(2020, 3, 17, 0, 0),\n datetime.datetime(2020, 3, 18, 0, 0),\n datetime.datetime(2020, 3, 19, 0, 0),\n datetime.datetime(2020, 3, 20, 0, 0),\n datetime.datetime(2020, 3, 21, 0, 0),\n datetime.datetime(2020, 3, 22, 0, 0),\n datetime.datetime(2020, 3, 23, 0, 0)]"
     },
     "metadata": {},
     "execution_count": 85
    }
   ],
   "source": [
    "def filedate(f):\n",
    "    matchObj = re.match( r'^.*\\/(\\d{2})-(\\d{2})-(\\d{4}).csv$', f, re.M)\n",
    "    result=None\n",
    "    if matchObj:\n",
    "        result= datetime.datetime(int(matchObj.group(3)), int(matchObj.group(1)), int(matchObj.group(2)))\n",
    "    return result\n",
    "\n",
    "[ filedate(f) for f in files ]\n",
    "\n",
    ""
   ]
  },
  {
   "cell_type": "code",
   "execution_count": 86,
   "metadata": {},
   "outputs": [
    {
     "output_type": "stream",
     "name": "stdout",
     "text": "Date              datetime64[ns]\nProvince/State            object\nCountry/Region            object\nLast Update               object\nConfirmed                float64\nDeaths                   float64\nRecovered                float64\ndtype: object\nDate              datetime64[ns]\nProvince/State            object\nCountry/Region            object\nLast Update               object\nConfirmed                float64\nDeaths                   float64\nRecovered                float64\ndtype: object\nDate              datetime64[ns]\nProvince/State            object\nCountry/Region            object\nLast Update               object\nConfirmed                float64\nDeaths                   float64\nRecovered                float64\ndtype: object\nDate              datetime64[ns]\nProvince/State            object\nCountry/Region            object\nLast Update               object\nConfirmed                  int64\nDeaths                   float64\nRecovered                float64\ndtype: object\nDate              datetime64[ns]\nProvince/State            object\nCountry/Region            object\nLast Update               object\nConfirmed                  int64\nDeaths                   float64\nRecovered                float64\ndtype: object\nDate              datetime64[ns]\nProvince/State            object\nCountry/Region            object\nLast Update               object\nConfirmed                  int64\nDeaths                   float64\nRecovered                float64\ndtype: object\nDate              datetime64[ns]\nProvince/State            object\nCountry/Region            object\nLast Update               object\nConfirmed                  int64\nDeaths                   float64\nRecovered                float64\ndtype: object\nDate              datetime64[ns]\nProvince/State            object\nCountry/Region            object\nLast Update               object\nConfirmed                  int64\nDeaths                   float64\nRecovered                float64\ndtype: object\nDate              datetime64[ns]\nProvince/State            object\nCountry/Region            object\nLast Update               object\nConfirmed                  int64\nDeaths                   float64\nRecovered                float64\ndtype: object\nDate              datetime64[ns]\nProvince/State            object\nCountry/Region            object\nLast Update               object\nConfirmed                  int64\nDeaths                   float64\nRecovered                float64\ndtype: object\nDate              datetime64[ns]\nProvince/State            object\nCountry/Region            object\nLast Update               object\nConfirmed                  int64\nDeaths                     int64\nRecovered                  int64\ndtype: object\nDate              datetime64[ns]\nProvince/State            object\nCountry/Region            object\nLast Update               object\nConfirmed                  int64\nDeaths                     int64\nRecovered                  int64\ndtype: object\nDate              datetime64[ns]\nProvince/State            object\nCountry/Region            object\nLast Update               object\nConfirmed                  int64\nDeaths                     int64\nRecovered                  int64\ndtype: object\nDate              datetime64[ns]\nProvince/State            object\nCountry/Region            object\nLast Update               object\nConfirmed                  int64\nDeaths                     int64\nRecovered                  int64\ndtype: object\nDate              datetime64[ns]\nProvince/State            object\nCountry/Region            object\nLast Update               object\nConfirmed                  int64\nDeaths                     int64\nRecovered                  int64\ndtype: object\nDate              datetime64[ns]\nProvince/State            object\nCountry/Region            object\nLast Update               object\nConfirmed                  int64\nDeaths                     int64\nRecovered                  int64\ndtype: object\nDate              datetime64[ns]\nProvince/State            object\nCountry/Region            object\nLast Update               object\nConfirmed                  int64\nDeaths                     int64\nRecovered                  int64\ndtype: object\nDate              datetime64[ns]\nProvince/State            object\nCountry/Region            object\nLast Update               object\nConfirmed                  int64\nDeaths                     int64\nRecovered                  int64\ndtype: object\nDate              datetime64[ns]\nProvince/State            object\nCountry/Region            object\nLast Update               object\nConfirmed                  int64\nDeaths                     int64\nRecovered                  int64\ndtype: object\nDate              datetime64[ns]\nProvince/State            object\nCountry/Region            object\nLast Update               object\nConfirmed                  int64\nDeaths                     int64\nRecovered                  int64\ndtype: object\nDate              datetime64[ns]\nProvince/State            object\nCountry/Region            object\nLast Update               object\nConfirmed                  int64\nDeaths                     int64\nRecovered                  int64\ndtype: object\nDate              datetime64[ns]\nProvince/State            object\nCountry/Region            object\nLast Update               object\nConfirmed                  int64\nDeaths                     int64\nRecovered                  int64\ndtype: object\nDate              datetime64[ns]\nProvince/State            object\nCountry/Region            object\nLast Update               object\nConfirmed                  int64\nDeaths                     int64\nRecovered                  int64\ndtype: object\nDate              datetime64[ns]\nProvince/State            object\nCountry/Region            object\nLast Update               object\nConfirmed                  int64\nDeaths                     int64\nRecovered                  int64\ndtype: object\nDate              datetime64[ns]\nProvince/State            object\nCountry/Region            object\nLast Update               object\nConfirmed                  int64\nDeaths                     int64\nRecovered                  int64\ndtype: object\nDate              datetime64[ns]\nProvince/State            object\nCountry/Region            object\nLast Update               object\nConfirmed                  int64\nDeaths                     int64\nRecovered                  int64\ndtype: object\nDate              datetime64[ns]\nProvince/State            object\nCountry/Region            object\nLast Update               object\nConfirmed                  int64\nDeaths                     int64\nRecovered                  int64\ndtype: object\nDate              datetime64[ns]\nProvince/State            object\nCountry/Region            object\nLast Update               object\nConfirmed                  int64\nDeaths                     int64\nRecovered                  int64\ndtype: object\nDate              datetime64[ns]\nProvince/State            object\nCountry/Region            object\nLast Update               object\nConfirmed                  int64\nDeaths                     int64\nRecovered                  int64\ndtype: object\nDate              datetime64[ns]\nProvince/State            object\nCountry/Region            object\nLast Update               object\nConfirmed                  int64\nDeaths                     int64\nRecovered                  int64\ndtype: object\nDate              datetime64[ns]\nProvince/State            object\nCountry/Region            object\nLast Update               object\nConfirmed                  int64\nDeaths                     int64\nRecovered                  int64\ndtype: object\nDate              datetime64[ns]\nProvince/State            object\nCountry/Region            object\nLast Update               object\nConfirmed                  int64\nDeaths                     int64\nRecovered                  int64\ndtype: object\nDate              datetime64[ns]\nProvince/State            object\nCountry/Region            object\nLast Update               object\nConfirmed                  int64\nDeaths                     int64\nRecovered                  int64\ndtype: object\nDate              datetime64[ns]\nProvince/State            object\nCountry/Region            object\nLast Update               object\nConfirmed                  int64\nDeaths                     int64\nRecovered                  int64\ndtype: object\nDate              datetime64[ns]\nProvince/State            object\nCountry/Region            object\nLast Update               object\nConfirmed                  int64\nDeaths                     int64\nRecovered                  int64\ndtype: object\nDate              datetime64[ns]\nProvince/State            object\nCountry/Region            object\nLast Update               object\nConfirmed                  int64\nDeaths                     int64\nRecovered                  int64\ndtype: object\nDate              datetime64[ns]\nProvince/State            object\nCountry/Region            object\nLast Update               object\nConfirmed                  int64\nDeaths                     int64\nRecovered                  int64\ndtype: object\nDate              datetime64[ns]\nProvince/State            object\nCountry/Region            object\nLast Update               object\nConfirmed                  int64\nDeaths                     int64\nRecovered                  int64\ndtype: object\nDate              datetime64[ns]\nProvince/State            object\nCountry/Region            object\nLast Update               object\nConfirmed                  int64\nDeaths                     int64\nRecovered                  int64\ndtype: object\nDate              datetime64[ns]\nProvince/State            object\nCountry/Region            object\nLast Update               object\nConfirmed                  int64\nDeaths                     int64\nRecovered                  int64\nLatitude                 float64\nLongitude                float64\ndtype: object\nDate              datetime64[ns]\nProvince/State            object\nCountry/Region            object\nLast Update               object\nConfirmed                  int64\nDeaths                     int64\nRecovered                  int64\nLatitude                 float64\nLongitude                float64\ndtype: object\nDate              datetime64[ns]\nProvince/State            object\nCountry/Region            object\nLast Update               object\nConfirmed                  int64\nDeaths                     int64\nRecovered                  int64\nLatitude                 float64\nLongitude                float64\ndtype: object\nDate              datetime64[ns]\nProvince/State            object\nCountry/Region            object\nLast Update               object\nConfirmed                  int64\nDeaths                     int64\nRecovered                  int64\nLatitude                 float64\nLongitude                float64\ndtype: object\nDate              datetime64[ns]\nProvince/State            object\nCountry/Region            object\nLast Update               object\nConfirmed                  int64\nDeaths                     int64\nRecovered                  int64\nLatitude                 float64\nLongitude                float64\ndtype: object\nDate              datetime64[ns]\nProvince/State            object\nCountry/Region            object\nLast Update               object\nConfirmed                  int64\nDeaths                     int64\nRecovered                  int64\nLatitude                 float64\nLongitude                float64\ndtype: object\nDate              datetime64[ns]\nProvince/State            object\nCountry/Region            object\nLast Update               object\nConfirmed                  int64\nDeaths                     int64\nRecovered                  int64\nLatitude                 float64\nLongitude                float64\ndtype: object\nDate              datetime64[ns]\nProvince/State            object\nCountry/Region            object\nLast Update               object\nConfirmed                  int64\nDeaths                     int64\nRecovered                  int64\nLatitude                 float64\nLongitude                float64\ndtype: object\nDate              datetime64[ns]\nProvince/State            object\nCountry/Region            object\nLast Update               object\nConfirmed                  int64\nDeaths                     int64\nRecovered                  int64\nLatitude                 float64\nLongitude                float64\ndtype: object\nDate              datetime64[ns]\nProvince/State            object\nCountry/Region            object\nLast Update               object\nConfirmed                  int64\nDeaths                     int64\nRecovered                  int64\nLatitude                 float64\nLongitude                float64\ndtype: object\nDate              datetime64[ns]\nProvince/State            object\nCountry/Region            object\nLast Update               object\nConfirmed                  int64\nDeaths                     int64\nRecovered                  int64\nLatitude                 float64\nLongitude                float64\ndtype: object\nDate              datetime64[ns]\nProvince/State            object\nCountry/Region            object\nLast Update               object\nConfirmed                  int64\nDeaths                     int64\nRecovered                  int64\nLatitude                 float64\nLongitude                float64\ndtype: object\nDate              datetime64[ns]\nProvince/State            object\nCountry/Region            object\nLast Update               object\nConfirmed                  int64\nDeaths                     int64\nRecovered                  int64\nLatitude                 float64\nLongitude                float64\ndtype: object\nDate              datetime64[ns]\nProvince/State            object\nCountry/Region            object\nLast Update               object\nConfirmed                  int64\nDeaths                     int64\nRecovered                  int64\nLatitude                 float64\nLongitude                float64\ndtype: object\nDate              datetime64[ns]\nProvince/State            object\nCountry/Region            object\nLast Update               object\nConfirmed                  int64\nDeaths                     int64\nRecovered                  int64\nLatitude                 float64\nLongitude                float64\ndtype: object\nDate              datetime64[ns]\nProvince/State            object\nCountry/Region            object\nLast Update               object\nConfirmed                  int64\nDeaths                     int64\nRecovered                  int64\nLatitude                 float64\nLongitude                float64\ndtype: object\nDate              datetime64[ns]\nProvince/State            object\nCountry/Region            object\nLast Update               object\nConfirmed                  int64\nDeaths                     int64\nRecovered                  int64\nLatitude                 float64\nLongitude                float64\ndtype: object\nDate              datetime64[ns]\nProvince/State            object\nCountry/Region            object\nLast Update               object\nConfirmed                  int64\nDeaths                     int64\nRecovered                  int64\nLatitude                 float64\nLongitude                float64\ndtype: object\nDate              datetime64[ns]\nProvince/State            object\nCountry/Region            object\nLast Update               object\nConfirmed                  int64\nDeaths                     int64\nRecovered                  int64\nLatitude                 float64\nLongitude                float64\ndtype: object\nDate              datetime64[ns]\nProvince/State            object\nCountry/Region            object\nLast Update               object\nConfirmed                  int64\nDeaths                     int64\nRecovered                  int64\nLatitude                 float64\nLongitude                float64\ndtype: object\nDate              datetime64[ns]\nProvince/State            object\nCountry/Region            object\nLast Update               object\nConfirmed                  int64\nDeaths                     int64\nRecovered                  int64\nLatitude                 float64\nLongitude                float64\ndtype: object\nDate              datetime64[ns]\nProvince/State            object\nCountry/Region            object\nLast Update               object\nConfirmed                  int64\nDeaths                     int64\nRecovered                  int64\nLatitude                 float64\nLongitude                float64\ndtype: object\nDate              datetime64[ns]\nFIPS                     float64\nAdmin2                    object\nProvince/State            object\nCountry/Region            object\nLast_Update               object\nLatitude                 float64\nLongitude                float64\nConfirmed                  int64\nDeaths                     int64\nRecovered                  int64\nActive                     int64\nCombined_Key              object\ndtype: object\n"
    }
   ],
   "source": [
    "#dfs = [pd.read_csv(f, parse_dates=['Last Update'], infer_datetime_format=True) for f in files]\n",
    "\n",
    "def read_csv(d, f):\n",
    "    df = pd.read_csv(f);\n",
    "    df.insert(0, 'Date', d)\n",
    "\n",
    "    df = df.rename(columns={'Province_State': \"Province/State\", 'Country_Region': 'Country/Region', 'Lat': 'Latitude', 'Long_': 'Longitude', 'Last_Update:': 'Last Update'})\n",
    "    return df\n",
    "\n",
    "dfs = [read_csv(filedate(f), f) for f in files]\n",
    "\n",
    "for df in dfs:\n",
    "    print (df.dtypes)"
   ]
  },
  {
   "cell_type": "code",
   "execution_count": 87,
   "metadata": {},
   "outputs": [
    {
     "output_type": "execute_result",
     "data": {
      "text/plain": "Date              datetime64[ns]\nProvince/State            object\nCountry/Region            object\nLast Update               object\nConfirmed                float64\nDeaths                   float64\nRecovered                float64\nLatitude                 float64\nLongitude                float64\nFIPS                     float64\nAdmin2                    object\nLast_Update               object\nActive                   float64\nCombined_Key              object\ndtype: object"
     },
     "metadata": {},
     "execution_count": 87
    }
   ],
   "source": [
    "df = pd.concat(dfs,ignore_index=True)\n",
    "\n",
    "df.dtypes"
   ]
  },
  {
   "cell_type": "code",
   "execution_count": 88,
   "metadata": {},
   "outputs": [],
   "source": [
    "s=df.sort_values(by=['Date', 'Country/Region', 'Province/State', 'Admin2'])"
   ]
  },
  {
   "cell_type": "code",
   "execution_count": 89,
   "metadata": {},
   "outputs": [],
   "source": [
    "s.to_csv(\"../data/daily_raw.csv\", index=False)"
   ]
  },
  {
   "cell_type": "code",
   "execution_count": 90,
   "metadata": {},
   "outputs": [
    {
     "output_type": "execute_result",
     "data": {
      "text/plain": "          Confirmed        Deaths     Recovered     Latitude    Longitude  \\\ncount  11322.000000  10900.000000  10953.000000  8523.000000  8523.000000   \nmean     492.394542     18.233119    181.169269    32.131760   -29.656968   \nstd     4299.017451    208.595717   2375.240480    18.605207    82.419162   \nmin        0.000000      0.000000      0.000000   -42.882100  -170.132000   \n25%        1.000000      0.000000      0.000000    29.382900   -92.000617   \n50%        5.000000      0.000000      0.000000    36.964698   -75.608876   \n75%       72.000000      0.000000      3.000000    42.315400    26.000000   \nmax    67800.000000   6077.000000  59882.000000    72.000000   178.065000   \n\n               FIPS        Active  \ncount   3151.000000   3415.000000  \nmean   30481.562679     63.149048  \nstd    15293.975742   1199.575078  \nmin     1001.000000      0.000000  \n25%    18182.000000      0.000000  \n50%    29185.000000      0.000000  \n75%    45090.000000      0.000000  \nmax    99999.000000  50418.000000  ",
      "text/html": "<div>\n<style scoped>\n    .dataframe tbody tr th:only-of-type {\n        vertical-align: middle;\n    }\n\n    .dataframe tbody tr th {\n        vertical-align: top;\n    }\n\n    .dataframe thead th {\n        text-align: right;\n    }\n</style>\n<table border=\"1\" class=\"dataframe\">\n  <thead>\n    <tr style=\"text-align: right;\">\n      <th></th>\n      <th>Confirmed</th>\n      <th>Deaths</th>\n      <th>Recovered</th>\n      <th>Latitude</th>\n      <th>Longitude</th>\n      <th>FIPS</th>\n      <th>Active</th>\n    </tr>\n  </thead>\n  <tbody>\n    <tr>\n      <th>count</th>\n      <td>11322.000000</td>\n      <td>10900.000000</td>\n      <td>10953.000000</td>\n      <td>8523.000000</td>\n      <td>8523.000000</td>\n      <td>3151.000000</td>\n      <td>3415.000000</td>\n    </tr>\n    <tr>\n      <th>mean</th>\n      <td>492.394542</td>\n      <td>18.233119</td>\n      <td>181.169269</td>\n      <td>32.131760</td>\n      <td>-29.656968</td>\n      <td>30481.562679</td>\n      <td>63.149048</td>\n    </tr>\n    <tr>\n      <th>std</th>\n      <td>4299.017451</td>\n      <td>208.595717</td>\n      <td>2375.240480</td>\n      <td>18.605207</td>\n      <td>82.419162</td>\n      <td>15293.975742</td>\n      <td>1199.575078</td>\n    </tr>\n    <tr>\n      <th>min</th>\n      <td>0.000000</td>\n      <td>0.000000</td>\n      <td>0.000000</td>\n      <td>-42.882100</td>\n      <td>-170.132000</td>\n      <td>1001.000000</td>\n      <td>0.000000</td>\n    </tr>\n    <tr>\n      <th>25%</th>\n      <td>1.000000</td>\n      <td>0.000000</td>\n      <td>0.000000</td>\n      <td>29.382900</td>\n      <td>-92.000617</td>\n      <td>18182.000000</td>\n      <td>0.000000</td>\n    </tr>\n    <tr>\n      <th>50%</th>\n      <td>5.000000</td>\n      <td>0.000000</td>\n      <td>0.000000</td>\n      <td>36.964698</td>\n      <td>-75.608876</td>\n      <td>29185.000000</td>\n      <td>0.000000</td>\n    </tr>\n    <tr>\n      <th>75%</th>\n      <td>72.000000</td>\n      <td>0.000000</td>\n      <td>3.000000</td>\n      <td>42.315400</td>\n      <td>26.000000</td>\n      <td>45090.000000</td>\n      <td>0.000000</td>\n    </tr>\n    <tr>\n      <th>max</th>\n      <td>67800.000000</td>\n      <td>6077.000000</td>\n      <td>59882.000000</td>\n      <td>72.000000</td>\n      <td>178.065000</td>\n      <td>99999.000000</td>\n      <td>50418.000000</td>\n    </tr>\n  </tbody>\n</table>\n</div>"
     },
     "metadata": {},
     "execution_count": 90
    }
   ],
   "source": [
    "s.describe()"
   ]
  },
  {
   "cell_type": "code",
   "execution_count": 100,
   "metadata": {},
   "outputs": [
    {
     "output_type": "execute_result",
     "data": {
      "text/plain": "          Confirmed       Deaths    Recovered     Latitude    Longitude  \\\ncount   4796.000000  4766.000000  4766.000000  4422.000000  4422.000000   \nmean      35.368641     0.505875     0.202686    38.167885   -91.049428   \nstd      384.916027     4.436596     4.711314     6.480476    26.073202   \nmin        0.000000     0.000000     0.000000   -14.271000  -170.132000   \n25%        0.000000     0.000000     0.000000    34.752669   -99.745316   \n50%        1.000000     0.000000     0.000000    38.513857   -90.350323   \n75%        5.000000     0.000000     0.000000    41.915970   -82.405729   \nmax    15793.000000   117.000000   178.000000    69.314792   145.673900   \n\n               FIPS  Active  \ncount   3151.000000  3179.0  \nmean   30481.562679     0.0  \nstd    15293.975742     0.0  \nmin     1001.000000     0.0  \n25%    18182.000000     0.0  \n50%    29185.000000     0.0  \n75%    45090.000000     0.0  \nmax    99999.000000     0.0  ",
      "text/html": "<div>\n<style scoped>\n    .dataframe tbody tr th:only-of-type {\n        vertical-align: middle;\n    }\n\n    .dataframe tbody tr th {\n        vertical-align: top;\n    }\n\n    .dataframe thead th {\n        text-align: right;\n    }\n</style>\n<table border=\"1\" class=\"dataframe\">\n  <thead>\n    <tr style=\"text-align: right;\">\n      <th></th>\n      <th>Confirmed</th>\n      <th>Deaths</th>\n      <th>Recovered</th>\n      <th>Latitude</th>\n      <th>Longitude</th>\n      <th>FIPS</th>\n      <th>Active</th>\n    </tr>\n  </thead>\n  <tbody>\n    <tr>\n      <th>count</th>\n      <td>4796.000000</td>\n      <td>4766.000000</td>\n      <td>4766.000000</td>\n      <td>4422.000000</td>\n      <td>4422.000000</td>\n      <td>3151.000000</td>\n      <td>3179.0</td>\n    </tr>\n    <tr>\n      <th>mean</th>\n      <td>35.368641</td>\n      <td>0.505875</td>\n      <td>0.202686</td>\n      <td>38.167885</td>\n      <td>-91.049428</td>\n      <td>30481.562679</td>\n      <td>0.0</td>\n    </tr>\n    <tr>\n      <th>std</th>\n      <td>384.916027</td>\n      <td>4.436596</td>\n      <td>4.711314</td>\n      <td>6.480476</td>\n      <td>26.073202</td>\n      <td>15293.975742</td>\n      <td>0.0</td>\n    </tr>\n    <tr>\n      <th>min</th>\n      <td>0.000000</td>\n      <td>0.000000</td>\n      <td>0.000000</td>\n      <td>-14.271000</td>\n      <td>-170.132000</td>\n      <td>1001.000000</td>\n      <td>0.0</td>\n    </tr>\n    <tr>\n      <th>25%</th>\n      <td>0.000000</td>\n      <td>0.000000</td>\n      <td>0.000000</td>\n      <td>34.752669</td>\n      <td>-99.745316</td>\n      <td>18182.000000</td>\n      <td>0.0</td>\n    </tr>\n    <tr>\n      <th>50%</th>\n      <td>1.000000</td>\n      <td>0.000000</td>\n      <td>0.000000</td>\n      <td>38.513857</td>\n      <td>-90.350323</td>\n      <td>29185.000000</td>\n      <td>0.0</td>\n    </tr>\n    <tr>\n      <th>75%</th>\n      <td>5.000000</td>\n      <td>0.000000</td>\n      <td>0.000000</td>\n      <td>41.915970</td>\n      <td>-82.405729</td>\n      <td>45090.000000</td>\n      <td>0.0</td>\n    </tr>\n    <tr>\n      <th>max</th>\n      <td>15793.000000</td>\n      <td>117.000000</td>\n      <td>178.000000</td>\n      <td>69.314792</td>\n      <td>145.673900</td>\n      <td>99999.000000</td>\n      <td>0.0</td>\n    </tr>\n  </tbody>\n</table>\n</div>"
     },
     "metadata": {},
     "execution_count": 100
    }
   ],
   "source": [
    "us_last=s[(s['Country/Region']=='US')]\n",
    "us_last.describe()"
   ]
  },
  {
   "cell_type": "code",
   "execution_count": 101,
   "metadata": {},
   "outputs": [
    {
     "output_type": "execute_result",
     "data": {
      "text/plain": "          Confirmed       Deaths  Recovered     Latitude    Longitude  \\\ncount   3179.000000  3179.000000     3179.0  3179.000000  3179.000000   \nmean      13.736081     0.173640        0.0    38.087008   -91.357162   \nstd      233.726578     2.528388        0.0     6.466061    16.536752   \nmin        0.000000     0.000000        0.0   -14.271000  -170.132000   \n25%        0.000000     0.000000        0.0    34.562189   -98.207641   \n50%        0.000000     0.000000        0.0    38.323358   -90.213303   \n75%        2.000000     0.000000        0.0    41.750468   -83.260722   \nmax    12305.000000    99.000000        0.0    69.314792   145.673900   \n\n               FIPS  Active  \ncount   3151.000000  3179.0  \nmean   30481.562679     0.0  \nstd    15293.975742     0.0  \nmin     1001.000000     0.0  \n25%    18182.000000     0.0  \n50%    29185.000000     0.0  \n75%    45090.000000     0.0  \nmax    99999.000000     0.0  ",
      "text/html": "<div>\n<style scoped>\n    .dataframe tbody tr th:only-of-type {\n        vertical-align: middle;\n    }\n\n    .dataframe tbody tr th {\n        vertical-align: top;\n    }\n\n    .dataframe thead th {\n        text-align: right;\n    }\n</style>\n<table border=\"1\" class=\"dataframe\">\n  <thead>\n    <tr style=\"text-align: right;\">\n      <th></th>\n      <th>Confirmed</th>\n      <th>Deaths</th>\n      <th>Recovered</th>\n      <th>Latitude</th>\n      <th>Longitude</th>\n      <th>FIPS</th>\n      <th>Active</th>\n    </tr>\n  </thead>\n  <tbody>\n    <tr>\n      <th>count</th>\n      <td>3179.000000</td>\n      <td>3179.000000</td>\n      <td>3179.0</td>\n      <td>3179.000000</td>\n      <td>3179.000000</td>\n      <td>3151.000000</td>\n      <td>3179.0</td>\n    </tr>\n    <tr>\n      <th>mean</th>\n      <td>13.736081</td>\n      <td>0.173640</td>\n      <td>0.0</td>\n      <td>38.087008</td>\n      <td>-91.357162</td>\n      <td>30481.562679</td>\n      <td>0.0</td>\n    </tr>\n    <tr>\n      <th>std</th>\n      <td>233.726578</td>\n      <td>2.528388</td>\n      <td>0.0</td>\n      <td>6.466061</td>\n      <td>16.536752</td>\n      <td>15293.975742</td>\n      <td>0.0</td>\n    </tr>\n    <tr>\n      <th>min</th>\n      <td>0.000000</td>\n      <td>0.000000</td>\n      <td>0.0</td>\n      <td>-14.271000</td>\n      <td>-170.132000</td>\n      <td>1001.000000</td>\n      <td>0.0</td>\n    </tr>\n    <tr>\n      <th>25%</th>\n      <td>0.000000</td>\n      <td>0.000000</td>\n      <td>0.0</td>\n      <td>34.562189</td>\n      <td>-98.207641</td>\n      <td>18182.000000</td>\n      <td>0.0</td>\n    </tr>\n    <tr>\n      <th>50%</th>\n      <td>0.000000</td>\n      <td>0.000000</td>\n      <td>0.0</td>\n      <td>38.323358</td>\n      <td>-90.213303</td>\n      <td>29185.000000</td>\n      <td>0.0</td>\n    </tr>\n    <tr>\n      <th>75%</th>\n      <td>2.000000</td>\n      <td>0.000000</td>\n      <td>0.0</td>\n      <td>41.750468</td>\n      <td>-83.260722</td>\n      <td>45090.000000</td>\n      <td>0.0</td>\n    </tr>\n    <tr>\n      <th>max</th>\n      <td>12305.000000</td>\n      <td>99.000000</td>\n      <td>0.0</td>\n      <td>69.314792</td>\n      <td>145.673900</td>\n      <td>99999.000000</td>\n      <td>0.0</td>\n    </tr>\n  </tbody>\n</table>\n</div>"
     },
     "metadata": {},
     "execution_count": 101
    }
   ],
   "source": [
    "us_last=s[(s['Country/Region']=='US')&(s.Date==datetime.datetime(2020,3,23))]\n",
    "us_last.describe()"
   ]
  },
  {
   "cell_type": "code",
   "execution_count": 103,
   "metadata": {},
   "outputs": [
    {
     "output_type": "execute_result",
     "data": {
      "text/plain": "43667.0"
     },
     "metadata": {},
     "execution_count": 103
    }
   ],
   "source": [
    "us_last.Confirmed.sum()"
   ]
  },
  {
   "cell_type": "code",
   "execution_count": 104,
   "metadata": {},
   "outputs": [
    {
     "output_type": "execute_result",
     "data": {
      "text/plain": "8036        Autauga\n8045        Baldwin\n8057        Barbour\n8127           Bibb\n8147         Blount\n            ...    \n10678    Sweetwater\n10714         Teton\n10778         Uinta\n10903      Washakie\n10981        Weston\nName: Admin2, Length: 3179, dtype: object"
     },
     "metadata": {},
     "execution_count": 104
    }
   ],
   "source": [
    "us_last.Admin2"
   ]
  },
  {
   "cell_type": "code",
   "execution_count": null,
   "metadata": {},
   "outputs": [],
   "source": []
  }
 ]
}