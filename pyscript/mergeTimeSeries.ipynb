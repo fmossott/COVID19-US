{
 "nbformat": 4,
 "nbformat_minor": 2,
 "metadata": {
  "language_info": {
   "name": "python",
   "codemirror_mode": {
    "name": "ipython",
    "version": 3
   },
   "version": "3.7.6-final"
  },
  "orig_nbformat": 2,
  "file_extension": ".py",
  "mimetype": "text/x-python",
  "name": "python",
  "npconvert_exporter": "python",
  "pygments_lexer": "ipython3",
  "version": 3,
  "kernelspec": {
   "name": "python37664bit40ccb972f06c4506ace5644e4690cca6",
   "display_name": "Python 3.7.6 64-bit"
  }
 },
 "cells": [
  {
   "cell_type": "code",
   "execution_count": 6,
   "metadata": {},
   "outputs": [],
   "source": [
    "import pandas as pd\n",
    "import glob"
   ]
  },
  {
   "cell_type": "code",
   "execution_count": 7,
   "metadata": {},
   "outputs": [],
   "source": [
    "#Load Sources\n",
    "srcdir=\"../../COVID-19/csse_covid_19_data/csse_covid_19_time_series/\"\n",
    "\n",
    "cFile=\"time_series_19-covid-Confirmed.csv\"\n",
    "dFile=\"time_series_19-covid-Deaths.csv\"\n",
    "rFile=\"time_series_19-covid-Recovered.csv\"\n",
    "\n",
    "cDF = pd.read_csv(srcdir+cFile)\n",
    "dDF = pd.read_csv(srcdir+dFile)\n",
    "rDF = pd.read_csv(srcdir+rFile)\n"
   ]
  },
  {
   "cell_type": "code",
   "execution_count": 8,
   "metadata": {},
   "outputs": [
    {
     "data": {
      "text/plain": "Province/State     object\nCountry/Region     object\nLat               float64\nLong              float64\n1/22/20             int64\n                   ...   \n3/16/20             int64\n3/17/20             int64\n3/18/20             int64\n3/19/20             int64\n3/20/20             int64\nLength: 63, dtype: object"
     },
     "execution_count": 8,
     "metadata": {},
     "output_type": "execute_result"
    }
   ],
   "source": [
    "rDF.dtypes"
   ]
  },
  {
   "cell_type": "code",
   "execution_count": 12,
   "metadata": {},
   "outputs": [
    {
     "data": {
      "text/plain": "Index(['1/22/20', '1/23/20', '1/24/20', '1/25/20', '1/26/20', '1/27/20',\n       '1/28/20', '1/29/20', '1/30/20', '1/31/20', '2/1/20', '2/2/20',\n       '2/3/20', '2/4/20', '2/5/20', '2/6/20', '2/7/20', '2/8/20', '2/9/20',\n       '2/10/20', '2/11/20', '2/12/20', '2/13/20', '2/14/20', '2/15/20',\n       '2/16/20', '2/17/20', '2/18/20', '2/19/20', '2/20/20', '2/21/20',\n       '2/22/20', '2/23/20', '2/24/20', '2/25/20', '2/26/20', '2/27/20',\n       '2/28/20', '2/29/20', '3/1/20', '3/2/20', '3/3/20', '3/4/20', '3/5/20',\n       '3/6/20', '3/7/20', '3/8/20', '3/9/20', '3/10/20', '3/11/20', '3/12/20',\n       '3/13/20', '3/14/20', '3/15/20', '3/16/20', '3/17/20', '3/18/20',\n       '3/19/20', '3/20/20'],\n      dtype='object')"
     },
     "execution_count": 12,
     "metadata": {},
     "output_type": "execute_result"
    }
   ],
   "source": [
    "dates=cDF.columns[4:]\n",
    "dates"
   ]
  },
  {
   "cell_type": "code",
   "execution_count": 13,
   "metadata": {},
   "outputs": [],
   "source": [
    "def dayData(d):\n",
    "    day_cDF = cDF[['Province/State','Country/Region',d]].rename(columns={d: \"Confirmed\"})\n",
    "    day_dDF = dDF[['Province/State','Country/Region',d]].rename(columns={d: \"Deaths\"})\n",
    "    day_rDF = rDF[['Province/State','Country/Region',d]].rename(columns={d: \"Recovered\"})\n",
    "\n",
    "    tmp = pd.merge(day_cDF, day_dDF, on=['Province/State','Country/Region'], how=\"outer\")\n",
    "    dayDF = pd.merge(tmp, day_rDF, on=['Province/State','Country/Region'], how=\"outer\")\n",
    "\n",
    "    dayDF.insert(0,'Date',d)\n",
    "\n",
    "    return dayDF\n",
    "\n",
    "dfs = [dayData(d) for d in dates]\n",
    "\n",
    "df = pd.concat(dfs,ignore_index=True)"
   ]
  },
  {
   "cell_type": "code",
   "execution_count": 15,
   "metadata": {},
   "outputs": [],
   "source": [
    "df.to_csv(\"../data/ts_raw.csv\", index=False)"
   ]
  },
  {
   "cell_type": "code",
   "execution_count": null,
   "metadata": {},
   "outputs": [],
   "source": []
  }
 ]
}